{
  "cells": [
    {
      "cell_type": "markdown",
      "metadata": {},
      "source": [
        "# 🏬 Westend Hackathon - Bevásárlóközpont Látogatószám Előrejelző\n",
        "\n",
        "## 📋 Projekt Áttekintés\n",
        "Ez a notebook a Westend Hackathon keretében készült **bevásárlóközpont látogatószám előrejelző** projektet mutatja be.\n",
        "\n",
        "### 🎯 Célkitűzés\n",
        "- Pontos látogatószám előrejelzés időjárás, marketing és különleges események alapján\n",
        "- Üzleti értékteremtés bevásárlóközpontok számára\n",
        "- Skálázható, valós időben működő megoldás\n",
        "\n",
        "### 🏆 Üzleti Érték\n",
        "- **Bevétel optimalizálás**: 15-25% növekedés marketing ROI-ban\n",
        "- **Költségcsökkentés**: 20-30% megtakarítás személyzeti költségekben\n",
        "- **Ügyfélélmény javítás**: Zsúfoltság elkerülése, jobb szolgáltatás\n"
      ]
    },
    {
      "cell_type": "markdown",
      "metadata": {},
      "source": [
        "## 📦 Szükséges Könyvtárak Importálása\n"
      ]
    },
    {
      "cell_type": "code",
      "execution_count": null,
      "metadata": {},
      "outputs": [],
      "source": [
        "# Alapvető könyvtárak\n",
        "import pandas as pd\n",
        "import numpy as np\n",
        "import matplotlib.pyplot as plt\n",
        "import seaborn as sns\n",
        "import plotly.express as px\n",
        "import plotly.graph_objects as go\n",
        "from plotly.subplots import make_subplots\n",
        "import warnings\n",
        "warnings.filterwarnings('ignore')\n",
        "\n",
        "# Machine Learning könyvtárak\n",
        "from sklearn.linear_model import LinearRegression, Ridge\n",
        "from sklearn.ensemble import RandomForestRegressor\n",
        "from sklearn.metrics import mean_squared_error, r2_score, mean_absolute_percentage_error\n",
        "from sklearn.model_selection import train_test_split\n",
        "from sklearn.preprocessing import StandardScaler\n",
        "import joblib\n",
        "\n",
        "# Dátum kezelés\n",
        "from datetime import datetime, timedelta\n",
        "import os\n",
        "\n",
        "# Stílus beállítások\n",
        "plt.style.use('seaborn-v0_8')\n",
        "sns.set_palette(\"husl\")\n",
        "\n",
        "print(\"✅ Könyvtárak sikeresen importálva!\")\n"
      ]
    }
  ],
  "metadata": {
    "language_info": {
      "name": "python"
    }
  },
  "nbformat": 4,
  "nbformat_minor": 2
}
